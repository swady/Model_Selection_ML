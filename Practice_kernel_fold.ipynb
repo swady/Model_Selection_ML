{
 "cells": [
  {
   "cell_type": "markdown",
   "metadata": {
    "colab_type": "text",
    "id": "9Th-B5Bp4bxw"
   },
   "source": [
    "# Kernel Fold Cross Validation"
   ]
  },
  {
   "cell_type": "code",
   "execution_count": 1,
   "metadata": {
    "colab": {},
    "colab_type": "code",
    "executionInfo": {
     "elapsed": 1448,
     "status": "ok",
     "timestamp": 1594589350303,
     "user": {
      "displayName": "Swadhin Kumar",
      "photoUrl": "https://lh3.googleusercontent.com/a-/AOh14Gh3BF16s7PfYg_SRr3FCJHtw-ZYEL0eMjT3lsae=s64",
      "userId": "06393047380940240856"
     },
     "user_tz": -330
    },
    "id": "FBHEdiHQ4Qyb"
   },
   "outputs": [],
   "source": [
    "# importing libraries\n",
    "\n",
    "import numpy as np\n",
    "import pandas as pd\n",
    "import matplotlib.pyplot as plt"
   ]
  },
  {
   "cell_type": "code",
   "execution_count": 5,
   "metadata": {
    "colab": {},
    "colab_type": "code",
    "executionInfo": {
     "elapsed": 1313,
     "status": "ok",
     "timestamp": 1594589444246,
     "user": {
      "displayName": "Swadhin Kumar",
      "photoUrl": "https://lh3.googleusercontent.com/a-/AOh14Gh3BF16s7PfYg_SRr3FCJHtw-ZYEL0eMjT3lsae=s64",
      "userId": "06393047380940240856"
     },
     "user_tz": -330
    },
    "id": "Jy9Wj2Fb4g8B"
   },
   "outputs": [],
   "source": [
    "# importing dataset\n",
    "\n",
    "dataset = pd.read_csv('Social_Network_Ads.csv')\n",
    "X = dataset.iloc[:, [2, 3]].values\n",
    "y = dataset.iloc[:, -1].values"
   ]
  },
  {
   "cell_type": "code",
   "execution_count": 7,
   "metadata": {
    "colab": {},
    "colab_type": "code",
    "executionInfo": {
     "elapsed": 1514,
     "status": "ok",
     "timestamp": 1594589452801,
     "user": {
      "displayName": "Swadhin Kumar",
      "photoUrl": "https://lh3.googleusercontent.com/a-/AOh14Gh3BF16s7PfYg_SRr3FCJHtw-ZYEL0eMjT3lsae=s64",
      "userId": "06393047380940240856"
     },
     "user_tz": -330
    },
    "id": "nrF3I-yp4u7X"
   },
   "outputs": [],
   "source": [
    "# feature scaling\n",
    "\n",
    "from sklearn.preprocessing import StandardScaler\n",
    "sc = StandardScaler()\n",
    "X = sc.fit_transform(X)"
   ]
  },
  {
   "cell_type": "code",
   "execution_count": 9,
   "metadata": {
    "colab": {},
    "colab_type": "code",
    "executionInfo": {
     "elapsed": 1475,
     "status": "ok",
     "timestamp": 1594589497455,
     "user": {
      "displayName": "Swadhin Kumar",
      "photoUrl": "https://lh3.googleusercontent.com/a-/AOh14Gh3BF16s7PfYg_SRr3FCJHtw-ZYEL0eMjT3lsae=s64",
      "userId": "06393047380940240856"
     },
     "user_tz": -330
    },
    "id": "yh-9P-xS4tWl"
   },
   "outputs": [],
   "source": [
    "# splitting the dataset into training set and test set\n",
    "\n",
    "from sklearn.model_selection import train_test_split\n",
    "X_train, X_test, y_train, y_test = train_test_split(X, y, test_size = 0.25, random_state = 0)"
   ]
  },
  {
   "cell_type": "code",
   "execution_count": 10,
   "metadata": {
    "colab": {
     "base_uri": "https://localhost:8080/",
     "height": 85
    },
    "colab_type": "code",
    "executionInfo": {
     "elapsed": 1246,
     "status": "ok",
     "timestamp": 1594589500163,
     "user": {
      "displayName": "Swadhin Kumar",
      "photoUrl": "https://lh3.googleusercontent.com/a-/AOh14Gh3BF16s7PfYg_SRr3FCJHtw-ZYEL0eMjT3lsae=s64",
      "userId": "06393047380940240856"
     },
     "user_tz": -330
    },
    "id": "TMt7aCXY5eE_",
    "outputId": "1e2b2e08-118f-421b-f9c4-ff9a7e08684a"
   },
   "outputs": [
    {
     "data": {
      "text/plain": [
       "SVC(C=1.0, break_ties=False, cache_size=200, class_weight=None, coef0=0.0,\n",
       "    decision_function_shape='ovr', degree=3, gamma='scale', kernel='rbf',\n",
       "    max_iter=-1, probability=False, random_state=0, shrinking=True, tol=0.001,\n",
       "    verbose=False)"
      ]
     },
     "execution_count": 10,
     "metadata": {
      "tags": []
     },
     "output_type": "execute_result"
    }
   ],
   "source": [
    "# Training the Kernel SVM model on the Training set\n",
    "\n",
    "from sklearn.svm import SVC\n",
    "classifier = SVC(kernel = 'rbf', random_state = 0)\n",
    "classifier.fit(X_train,y_train)"
   ]
  },
  {
   "cell_type": "code",
   "execution_count": 11,
   "metadata": {
    "colab": {
     "base_uri": "https://localhost:8080/",
     "height": 68
    },
    "colab_type": "code",
    "executionInfo": {
     "elapsed": 1322,
     "status": "ok",
     "timestamp": 1594589504965,
     "user": {
      "displayName": "Swadhin Kumar",
      "photoUrl": "https://lh3.googleusercontent.com/a-/AOh14Gh3BF16s7PfYg_SRr3FCJHtw-ZYEL0eMjT3lsae=s64",
      "userId": "06393047380940240856"
     },
     "user_tz": -330
    },
    "id": "nl6iQWj94ww9",
    "outputId": "9fd14b95-4597-4f00-c803-e841ee4b13a0"
   },
   "outputs": [
    {
     "name": "stdout",
     "output_type": "stream",
     "text": [
      "[[64  4]\n",
      " [ 3 29]]\n"
     ]
    },
    {
     "data": {
      "text/plain": [
       "0.93"
      ]
     },
     "execution_count": 11,
     "metadata": {
      "tags": []
     },
     "output_type": "execute_result"
    }
   ],
   "source": [
    "# making confussion matrix\n",
    "\n",
    "from sklearn.metrics import confusion_matrix, accuracy_score\n",
    "y_pred = classifier.predict(X_test)\n",
    "cm = confusion_matrix(y_test, y_pred)\n",
    "print(cm)\n",
    "accuracy_score(y_test, y_pred)"
   ]
  },
  {
   "cell_type": "code",
   "execution_count": 12,
   "metadata": {
    "colab": {
     "base_uri": "https://localhost:8080/",
     "height": 51
    },
    "colab_type": "code",
    "executionInfo": {
     "elapsed": 1218,
     "status": "ok",
     "timestamp": 1594589507859,
     "user": {
      "displayName": "Swadhin Kumar",
      "photoUrl": "https://lh3.googleusercontent.com/a-/AOh14Gh3BF16s7PfYg_SRr3FCJHtw-ZYEL0eMjT3lsae=s64",
      "userId": "06393047380940240856"
     },
     "user_tz": -330
    },
    "id": "ESf_iYno5kgM",
    "outputId": "895888b4-e520-4fd7-ab8a-0f9e91b685e4"
   },
   "outputs": [
    {
     "name": "stdout",
     "output_type": "stream",
     "text": [
      "Accuracy: 90.00 %\n",
      "Accuracy: 6.83 %\n"
     ]
    }
   ],
   "source": [
    "# applying the k-fold cross validation\n",
    "\n",
    "from sklearn.model_selection import cross_val_score\n",
    "accuracies = cross_val_score(estimator = classifier, X = X_train, y = y_train, cv = 10)\n",
    "print('Accuracy: {:.2f} %'.format(accuracies.mean()*100))\n",
    "print('Standard Deviation: {:.2f} %'.format(accuracies.std()*100))"
   ]
  },
  {
   "cell_type": "code",
   "execution_count": null,
   "metadata": {
    "colab": {},
    "colab_type": "code",
    "executionInfo": {
     "elapsed": 2189,
     "status": "aborted",
     "timestamp": 1594589351113,
     "user": {
      "displayName": "Swadhin Kumar",
      "photoUrl": "https://lh3.googleusercontent.com/a-/AOh14Gh3BF16s7PfYg_SRr3FCJHtw-ZYEL0eMjT3lsae=s64",
      "userId": "06393047380940240856"
     },
     "user_tz": -330
    },
    "id": "yu-eAfik7cKX"
   },
   "outputs": [],
   "source": []
  }
 ],
 "metadata": {
  "colab": {
   "authorship_tag": "ABX9TyOVzsagxUC63P1iX+xYtPKe",
   "name": "Practice_kernel_fold.ipynb",
   "provenance": []
  },
  "kernelspec": {
   "display_name": "Python 3",
   "language": "python",
   "name": "python3"
  },
  "language_info": {
   "codemirror_mode": {
    "name": "ipython",
    "version": 3
   },
   "file_extension": ".py",
   "mimetype": "text/x-python",
   "name": "python",
   "nbconvert_exporter": "python",
   "pygments_lexer": "ipython3",
   "version": "3.8.3"
  }
 },
 "nbformat": 4,
 "nbformat_minor": 1
}
